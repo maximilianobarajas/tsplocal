{
 "cells": [
  {
   "cell_type": "code",
   "execution_count": 28,
   "metadata": {},
   "outputs": [
    {
     "name": "stdout",
     "output_type": "stream",
     "text": [
      "[ 0  3  4 13 10  8 11 15  5  6 12 14  7  2  9  1]\n",
      "199\n",
      "[ 0  3  4 14 10  8 11 15  5  6 12 13  7  2  9  1]\n",
      "147\n",
      "[ 0 14 15 12  2 13 11 10  8  9  1  6  5  7  4  3]\n",
      "113\n",
      "[ 0  7 15 11  9  5  1 10  2 13  8  4  3 14  6 12]\n",
      "96\n",
      "[ 0  5 15 12  1  3  4 14  6  8  7 11 10  9  2 13]\n",
      "94\n",
      "[ 0 10  5 12 11  6 14  8  7  3  4 15  1  2  9 13]\n",
      "78\n",
      "[ 0 10  1 14  7  9 13  2 11 12  8 15  4  3  6  5]\n",
      "68\n",
      "[ 0 13  2 10  8 12  9  7  1 15  3  4  5 14  6 11]\n",
      "56\n",
      "[ 0  1  7  8 11 13  2 10 12  5 15  3  4  6 14  9]\n",
      "52\n",
      "[ 0  2  1 11 12 13 10  9  8  7  3  4  5 15  6 14]\n",
      "51\n",
      "[ 0 13  2 10  9  8  7  6  5  4  3 14 15  1 12 11]\n",
      "44\n",
      "[ 0 11  2 13  9 12 10  1  5 15  6 14  3  4  7  8]\n",
      "39\n"
     ]
    }
   ],
   "source": [
    "#Importamos las herramientas a utilizar\n",
    "import numpy as np\n",
    "import random\n",
    "#Creamos una función que recibira la matriz de distancias y un numero de iteraciones asi como una distancia sobre la cual probar \n",
    "def tsp_aleatorio(matriz_distancias,n):\n",
    "    #Asignamos un número del 1 al tamaño de un renglón de la matriz a cada lugar y lo guardamos en una lista de lugares\n",
    "    matriz_mejores_permutaciones=[]\n",
    "    lugares = range(1, matriz_distancias.shape[0]-1)\n",
    "    #Inicializamos la mejor permutación como una aleatoria de los lugares\n",
    "    mejor_permutacion =np.concatenate((np.array([0]),np.random.permutation(lugares)))\n",
    "    #mejor_permutacion=np.insert(mejor_permutacion,0,0)\n",
    "    #Inicializamos el mejor costo en la distancia proveida o bien en infinito\n",
    "    mejor_costo=costo_permutacion(mejor_permutacion,matriz_distancias)\n",
    "    i=0\n",
    "    \n",
    "    #Iteramos el problema n veces\n",
    "    while (i<n):\n",
    "        permutacion=mejor_permutacion\n",
    "        #Encontramos una permutación en el vecindario de la guardada\n",
    "        ix1=random.randint(1, len(permutacion)-1);ix2=random.randint(1, len(permutacion)-1)\n",
    "        temp=permutacion[ix1]\n",
    "        permutacion[ix1]=permutacion[ix2]\n",
    "        permutacion[ix2]=temp\n",
    "        #Encontramos el costo de dicha permutación\n",
    "        costo=costo_permutacion(permutacion,matriz_distancias)\n",
    "        #Guardamos el costo y la permutación si estos son mejores que los datos anteriormente guardados\n",
    "        if (costo <mejor_costo):\n",
    "            mejor_permutacion = permutacion\n",
    "            print(mejor_permutacion)\n",
    "            mejor_costo=costo\n",
    "            print(costo)\n",
    "            matriz_mejores_permutaciones.append((mejor_permutacion,mejor_costo))\n",
    "\n",
    "        i+=1\n",
    "    #Regresamos la solución en una tupla    \n",
    "\n",
    "def costo_permutacion(permutacion,matriz_distancias):\n",
    "    L=[]\n",
    "    #Guardamos en una lista los costos de los trayectos\n",
    "    for i in range(len(permutacion)-1):\n",
    "        L.append(matriz_distancias[permutacion[i]][permutacion[i+1]])\n",
    "    #Sumamos los costos de los trayectos junto con el de regresar  \n",
    "    return sum(L)+matriz_distancias[permutacion[-1]][permutacion[0]]\n",
    "\n",
    "caso=([\n",
    "  [9999, 3, 5, 48, 48, 8, 8, 5, 5, 3, 3, 0, 3, 5, 8, 8, 5],\n",
    "  [3, 9999, 3, 48, 48, 8, 8, 5, 5, 0, 0, 3, 0, 3, 8, 8, 5],\n",
    "  [5, 3, 9999, 72, 72, 48, 48, 24, 24, 3, 3, 5, 3, 0, 48, 48, 24],\n",
    "  [48, 48, 74, 9999, 0, 6, 6, 12, 12, 48, 48, 48, 48, 74, 6, 6, 12],\n",
    "  [48, 48, 74, 0, 9999, 6, 6, 12, 12, 48, 48, 48, 48, 74, 6, 6, 12],\n",
    "  [8, 8, 50, 6, 6, 9999, 0, 8, 8, 8, 8, 8, 8, 50, 0, 0, 8],\n",
    "  [8, 8, 50, 6, 6, 0, 9999, 8, 8, 8, 8, 8, 8, 50, 0, 0, 8],\n",
    "  [5, 5, 26, 12, 12, 8, 8, 9999, 0, 5, 5, 5, 5, 26, 8, 8, 0],\n",
    "  [5, 5, 26, 12, 12, 8, 8, 0, 9999, 5, 5, 5, 5, 26, 8, 8, 0],\n",
    "  [3, 0, 3, 48, 48, 8, 8, 5, 5, 9999, 0, 3, 0, 3, 8, 8, 5],\n",
    "  [3, 0, 3, 48, 48, 8, 8, 5, 5, 0, 9999, 3, 0, 3, 8, 8, 5],\n",
    "  [0, 3, 5, 48, 48, 8, 8, 5, 5, 3, 3, 9999, 3, 5, 8, 8, 5],\n",
    "  [3, 0, 3, 48, 48, 8, 8, 5, 5, 0, 0, 3, 9999, 3, 8, 8, 5],\n",
    "  [5, 3, 0, 72, 72, 48, 48, 24, 24, 3, 3, 5, 3, 9999, 48, 48, 24],\n",
    "  [8, 8, 50, 6, 6, 0, 0, 8, 8, 8, 8, 8, 8, 50, 9999, 0, 8],\n",
    "  [8, 8, 50, 6, 6, 0, 0, 8, 8, 8, 8, 8, 8, 50, 0, 9999, 8],\n",
    "  [5, 5, 26, 12, 12, 8, 8, 0, 0, 5, 5, 5, 5, 26, 8, 8, 9999]],\n",
    " 39)\n",
    "\n",
    "h=tsp_aleatorio(np.array(caso[0]),10000000)\n"
   ]
  },
  {
   "cell_type": "code",
   "execution_count": 30,
   "metadata": {},
   "outputs": [
    {
     "data": {
      "text/plain": [
       "39"
      ]
     },
     "execution_count": 30,
     "metadata": {},
     "output_type": "execute_result"
    }
   ],
   "source": [
    "costo_permutacion([ 0 ,11 , 2 ,13 , 9 ,12 ,10 , 1 , 5 ,15 , 6 ,14 , 3  ,4 , 7 , 8],caso[0])"
   ]
  }
 ],
 "metadata": {
  "kernelspec": {
   "display_name": "Python 3.10.8 64-bit (microsoft store)",
   "language": "python",
   "name": "python3"
  },
  "language_info": {
   "codemirror_mode": {
    "name": "ipython",
    "version": 3
   },
   "file_extension": ".py",
   "mimetype": "text/x-python",
   "name": "python",
   "nbconvert_exporter": "python",
   "pygments_lexer": "ipython3",
   "version": "3.10.8"
  },
  "orig_nbformat": 4,
  "vscode": {
   "interpreter": {
    "hash": "f8ca15d83b6fb72cece3edcf60f6aa40d2cbdeb5c60e0f188ff8c7c65828fd00"
   }
  }
 },
 "nbformat": 4,
 "nbformat_minor": 2
}
